{
 "cells": [
  {
   "cell_type": "code",
   "execution_count": null,
   "metadata": {
    "id": "vqxH49KJN6B_"
   },
   "outputs": [],
   "source": [
    "import time\n",
    "import matplotlib.pyplot as plt\n",
    "import numpy as np\n",
    "import os\n",
    "import cv2\n",
    "from tensorflow.keras.applications.resnet50 import ResNet50\n"
   ]
  },
  {
   "cell_type": "code",
   "execution_count": null,
   "metadata": {
    "colab": {
     "base_uri": "https://localhost:8080/"
    },
    "id": "BZx-LTqIN9o4",
    "outputId": "18162f3c-ee35-48de-cb02-7de253d0610d"
   },
   "outputs": [
    {
     "name": "stdout",
     "output_type": "stream",
     "text": [
      "--2021-10-09 01:30:59--  http://cs231n.stanford.edu/tiny-imagenet-200.zip\n",
      "Resolving cs231n.stanford.edu (cs231n.stanford.edu)... 171.64.68.10\n",
      "Connecting to cs231n.stanford.edu (cs231n.stanford.edu)|171.64.68.10|:80... connected.\n",
      "HTTP request sent, awaiting response... 200 OK\n",
      "Length: 248100043 (237M) [application/zip]\n",
      "Saving to: ‘tiny-imagenet-200.zip’\n",
      "\n",
      "tiny-imagenet-200.z 100%[===================>] 236.61M  12.1MB/s    in 25s     \n",
      "\n",
      "2021-10-09 01:31:24 (9.53 MB/s) - ‘tiny-imagenet-200.zip’ saved [248100043/248100043]\n",
      "\n"
     ]
    }
   ],
   "source": [
    "!wget http://cs231n.stanford.edu/tiny-imagenet-200.zip"
   ]
  },
  {
   "cell_type": "code",
   "execution_count": null,
   "metadata": {
    "colab": {
     "base_uri": "https://localhost:8080/"
    },
    "id": "QzkYRb-3OLYv",
    "outputId": "4ba162c9-f729-43d3-b41d-410b8658c4c5"
   },
   "outputs": [
    {
     "name": "stdout",
     "output_type": "stream",
     "text": [
      "test  train  val  wnids.txt  words.txt\n"
     ]
    }
   ],
   "source": [
    "!unzip -q tiny-imagenet-200.zip && ls tiny-imagenet-200"
   ]
  },
  {
   "cell_type": "code",
   "execution_count": null,
   "metadata": {
    "id": "XKNkPBy6N6CF"
   },
   "outputs": [],
   "source": [
    "def mapDirectoryToInt():\n",
    "    ID_DICT = {}\n",
    "    PATH = 'tiny-imagenet-200/wnids.txt'\n",
    "    FILEOPEN = open(PATH,'r')\n",
    "    for i, folder in enumerate(FILEOPEN):\n",
    "        ID_DICT[folder.replace('\\n','')]=i\n",
    "    return ID_DICT"
   ]
  },
  {
   "cell_type": "code",
   "execution_count": null,
   "metadata": {
    "colab": {
     "base_uri": "https://localhost:8080/"
    },
    "id": "oAygzk2HN6CG",
    "outputId": "6a70a08b-0332-4797-c413-b0c92a3f2af1"
   },
   "outputs": [
    {
     "name": "stdout",
     "output_type": "stream",
     "text": [
      "{'n02124075': 0, 'n04067472': 1, 'n04540053': 2, 'n04099969': 3, 'n07749582': 4, 'n01641577': 5, 'n02802426': 6, 'n09246464': 7, 'n07920052': 8, 'n03970156': 9, 'n03891332': 10, 'n02106662': 11, 'n03201208': 12, 'n02279972': 13, 'n02132136': 14, 'n04146614': 15, 'n07873807': 16, 'n02364673': 17, 'n04507155': 18, 'n03854065': 19, 'n03838899': 20, 'n03733131': 21, 'n01443537': 22, 'n07875152': 23, 'n03544143': 24, 'n09428293': 25, 'n03085013': 26, 'n02437312': 27, 'n07614500': 28, 'n03804744': 29, 'n04265275': 30, 'n02963159': 31, 'n02486410': 32, 'n01944390': 33, 'n09256479': 34, 'n02058221': 35, 'n04275548': 36, 'n02321529': 37, 'n02769748': 38, 'n02099712': 39, 'n07695742': 40, 'n02056570': 41, 'n02281406': 42, 'n01774750': 43, 'n02509815': 44, 'n03983396': 45, 'n07753592': 46, 'n04254777': 47, 'n02233338': 48, 'n04008634': 49, 'n02823428': 50, 'n02236044': 51, 'n03393912': 52, 'n07583066': 53, 'n04074963': 54, 'n01629819': 55, 'n09332890': 56, 'n02481823': 57, 'n03902125': 58, 'n03404251': 59, 'n09193705': 60, 'n03637318': 61, 'n04456115': 62, 'n02666196': 63, 'n03796401': 64, 'n02795169': 65, 'n02123045': 66, 'n01855672': 67, 'n01882714': 68, 'n02917067': 69, 'n02988304': 70, 'n04398044': 71, 'n02843684': 72, 'n02423022': 73, 'n02669723': 74, 'n04465501': 75, 'n02165456': 76, 'n03770439': 77, 'n02099601': 78, 'n04486054': 79, 'n02950826': 80, 'n03814639': 81, 'n04259630': 82, 'n03424325': 83, 'n02948072': 84, 'n03179701': 85, 'n03400231': 86, 'n02206856': 87, 'n03160309': 88, 'n01984695': 89, 'n03977966': 90, 'n03584254': 91, 'n04023962': 92, 'n02814860': 93, 'n01910747': 94, 'n04596742': 95, 'n03992509': 96, 'n04133789': 97, 'n03937543': 98, 'n02927161': 99, 'n01945685': 100, 'n02395406': 101, 'n02125311': 102, 'n03126707': 103, 'n04532106': 104, 'n02268443': 105, 'n02977058': 106, 'n07734744': 107, 'n03599486': 108, 'n04562935': 109, 'n03014705': 110, 'n04251144': 111, 'n04356056': 112, 'n02190166': 113, 'n03670208': 114, 'n02002724': 115, 'n02074367': 116, 'n04285008': 117, 'n04560804': 118, 'n04366367': 119, 'n02403003': 120, 'n07615774': 121, 'n04501370': 122, 'n03026506': 123, 'n02906734': 124, 'n01770393': 125, 'n04597913': 126, 'n03930313': 127, 'n04118538': 128, 'n04179913': 129, 'n04311004': 130, 'n02123394': 131, 'n04070727': 132, 'n02793495': 133, 'n02730930': 134, 'n02094433': 135, 'n04371430': 136, 'n04328186': 137, 'n03649909': 138, 'n04417672': 139, 'n03388043': 140, 'n01774384': 141, 'n02837789': 142, 'n07579787': 143, 'n04399382': 144, 'n02791270': 145, 'n03089624': 146, 'n02814533': 147, 'n04149813': 148, 'n07747607': 149, 'n03355925': 150, 'n01983481': 151, 'n04487081': 152, 'n03250847': 153, 'n03255030': 154, 'n02892201': 155, 'n02883205': 156, 'n03100240': 157, 'n02415577': 158, 'n02480495': 159, 'n01698640': 160, 'n01784675': 161, 'n04376876': 162, 'n03444034': 163, 'n01917289': 164, 'n01950731': 165, 'n03042490': 166, 'n07711569': 167, 'n04532670': 168, 'n03763968': 169, 'n07768694': 170, 'n02999410': 171, 'n03617480': 172, 'n06596364': 173, 'n01768244': 174, 'n02410509': 175, 'n03976657': 176, 'n01742172': 177, 'n03980874': 178, 'n02808440': 179, 'n02226429': 180, 'n02231487': 181, 'n02085620': 182, 'n01644900': 183, 'n02129165': 184, 'n02699494': 185, 'n03837869': 186, 'n02815834': 187, 'n07720875': 188, 'n02788148': 189, 'n02909870': 190, 'n03706229': 191, 'n07871810': 192, 'n03447447': 193, 'n02113799': 194, 'n12267677': 195, 'n03662601': 196, 'n02841315': 197, 'n07715103': 198, 'n02504458': 199}\n"
     ]
    }
   ],
   "source": [
    "print(mapDirectoryToInt())"
   ]
  },
  {
   "cell_type": "code",
   "execution_count": null,
   "metadata": {
    "id": "6z6PI4CrN6CI"
   },
   "outputs": [],
   "source": [
    "def getImage(folderName=None):\n",
    "    DATASET_PATH = 'tiny-imagenet-200/'+folderName+'/'\n",
    "    directories = os.listdir(DATASET_PATH)\n",
    "    ONE_HOT_ENCODED = np.eye(len(directories))\n",
    "    MAP_DIC = mapDirectoryToInt()\n",
    "    TRAIN_IMAGES = []\n",
    "    TRAIN_LABELS = []\n",
    "    CLASS = None\n",
    "    for directory in directories:\n",
    "        path = DATASET_PATH+directory+'/'\n",
    "        files = os.listdir(path)\n",
    "        if files[0].endswith('.txt'):\n",
    "            CLASS = files[0]\n",
    "        else:\n",
    "            CLASS = files[1]\n",
    "        for file in files:\n",
    "            if file.endswith('.txt'):\n",
    "                continue\n",
    "            IMG_FOLDER_PATH = path+file+'/'\n",
    "            IMAGES = os.listdir(IMG_FOLDER_PATH)\n",
    "            for IMAGE in IMAGES:\n",
    "                IMG_PATH = IMG_FOLDER_PATH+IMAGE\n",
    "                img = cv2.imread(IMG_PATH)\n",
    "                if len(img.shape)< 3:\n",
    "                    continue\n",
    "                #img = np.reshape(img,[64,64,3])\n",
    "                TRAIN_IMAGES.append(img)\n",
    "                TRAIN_LABELS.append((np.reshape(ONE_HOT_ENCODED[MAP_DIC[CLASS.replace('_boxes.txt','')]], [200])))\n",
    "    return np.array(TRAIN_IMAGES), np.array(TRAIN_LABELS)\n",
    "            "
   ]
  },
  {
   "cell_type": "code",
   "execution_count": null,
   "metadata": {
    "id": "3heU9a-8N6CJ"
   },
   "outputs": [],
   "source": [
    "def loadValidationData(folderName=None):\n",
    "    DATASET_PATH = 'tiny-imagenet-200/'\n",
    "    DATASET_FILE_PATH = 'tiny-imagenet-200/'+folderName+'/val_annotations.txt'\n",
    "    ONE_HOT_ENCODED = np.eye(200)\n",
    "    MAP_DIC = mapDirectoryToInt()\n",
    "    file = open(DATASET_FILE_PATH)\n",
    "    TEST = []\n",
    "    TEST_LABELS = []\n",
    "    cnt = 0\n",
    "    for line in file:\n",
    "        image, class_id = line.split('\\t')[:2]\n",
    "        IMG_PATH = DATASET_PATH+folderName+'/images/'+image\n",
    "        img = cv2.imread(IMG_PATH)\n",
    "        if len(img.shape) <3:\n",
    "            continue\n",
    "        TEST.append(img)\n",
    "        TEST_LABELS.append((np.reshape(ONE_HOT_ENCODED[MAP_DIC[class_id]], [200])))\n",
    "    return np.array(TEST), np.array(TEST_LABELS)"
   ]
  },
  {
   "cell_type": "code",
   "execution_count": null,
   "metadata": {
    "id": "pLAmbdWiN6CK"
   },
   "outputs": [],
   "source": [
    "from tensorflow import keras\n",
    "TEST_IMAGES, TEST_LABELS = loadValidationData('val')\n",
    "TEST_IMAGES = keras.applications.resnet50.preprocess_input(TEST_IMAGES)"
   ]
  },
  {
   "cell_type": "code",
   "execution_count": null,
   "metadata": {
    "colab": {
     "base_uri": "https://localhost:8080/"
    },
    "id": "tuN-wjl4N6CL",
    "outputId": "83d2a04a-d6cb-423a-e39f-772a3782f7e8"
   },
   "outputs": [
    {
     "name": "stdout",
     "output_type": "stream",
     "text": [
      "(10000, 64, 64, 3)\n",
      "(10000, 200)\n"
     ]
    }
   ],
   "source": [
    "print(TEST_IMAGES.shape)\n",
    "print(TEST_LABELS.shape)"
   ]
  },
  {
   "cell_type": "code",
   "execution_count": null,
   "metadata": {
    "id": "H5_OkKZvN6CN"
   },
   "outputs": [],
   "source": [
    "TRAIN_IMAGES, TRAIN_LABELS = getImage('train')"
   ]
  },
  {
   "cell_type": "code",
   "execution_count": null,
   "metadata": {
    "colab": {
     "base_uri": "https://localhost:8080/"
    },
    "id": "CAHS3xqwN6CO",
    "outputId": "cf1c9914-ed80-4ec0-a867-b4bc779f59ba"
   },
   "outputs": [
    {
     "name": "stdout",
     "output_type": "stream",
     "text": [
      "(100000, 64, 64, 3)\n",
      "(100000, 200)\n"
     ]
    }
   ],
   "source": [
    "print(TRAIN_IMAGES.shape)\n",
    "print(TRAIN_LABELS.shape)"
   ]
  },
  {
   "cell_type": "code",
   "execution_count": null,
   "metadata": {
    "id": "6HhECKeFfA6h"
   },
   "outputs": [],
   "source": [
    "\n",
    "TRAIN_IMAGES =  keras.applications.resnet50.preprocess_input(TRAIN_IMAGES)\n"
   ]
  },
  {
   "cell_type": "code",
   "execution_count": null,
   "metadata": {
    "colab": {
     "base_uri": "https://localhost:8080/"
    },
    "id": "M15ZRKWfPxjQ",
    "outputId": "2a64c3fc-34b1-4d3f-ceb6-2415058da7ea"
   },
   "outputs": [
    {
     "data": {
      "text/plain": [
       "(10000, 64, 64, 3)"
      ]
     },
     "execution_count": 30,
     "metadata": {},
     "output_type": "execute_result"
    }
   ],
   "source": [
    "TEST_IMAGES.shape"
   ]
  },
  {
   "cell_type": "code",
   "execution_count": null,
   "metadata": {
    "id": "joBBTjdIN6CP"
   },
   "outputs": [],
   "source": [
    "path = 'tiny-imagenet-200/'"
   ]
  },
  {
   "cell_type": "code",
   "execution_count": null,
   "metadata": {
    "id": "jcRqr05iasNL"
   },
   "outputs": [],
   "source": [
    "import tensorflow.keras as K"
   ]
  },
  {
   "cell_type": "code",
   "execution_count": null,
   "metadata": {
    "id": "acez-I0Sayg2"
   },
   "outputs": [],
   "source": [
    "input_shape = K.Input(shape=(64,64,3))"
   ]
  },
  {
   "cell_type": "code",
   "execution_count": null,
   "metadata": {
    "id": "cAmtLLauN6CU"
   },
   "outputs": [],
   "source": [
    "\n",
    "resModel = ResNet50(include_top=False,input_tensor=input_shape)\n",
    "#model.summary()"
   ]
  },
  {
   "cell_type": "code",
   "execution_count": null,
   "metadata": {
    "id": "9nGs7HX2cB8x"
   },
   "outputs": [],
   "source": []
  },
  {
   "cell_type": "code",
   "execution_count": null,
   "metadata": {
    "id": "8O-l-IEBc-uz"
   },
   "outputs": [],
   "source": [
    "import tensorflow as tf \n",
    "model = K.models.Sequential()\n",
    "model.add(resModel)\n",
    "model.add(K.layers.Flatten())\n",
    "model.add(K.layers.BatchNormalization())\n",
    "model.add(K.layers.Dropout(0.5))\n",
    "model.add(K.layers.Dense(200, activation='softmax'))\n"
   ]
  },
  {
   "cell_type": "code",
   "execution_count": null,
   "metadata": {
    "id": "Mveaeog4eqCn"
   },
   "outputs": [],
   "source": [
    "model.compile(loss='categorical_crossentropy',\n",
    "                  optimizer=K.optimizers.Adam(learning_rate=0.0001),\n",
    "                  metrics=['accuracy'])"
   ]
  },
  {
   "cell_type": "code",
   "execution_count": null,
   "metadata": {
    "colab": {
     "base_uri": "https://localhost:8080/"
    },
    "id": "c0-Pho42PAoV",
    "outputId": "b511dcad-3b6a-4b3e-f7ca-b0adaab172a3"
   },
   "outputs": [
    {
     "data": {
      "text/plain": [
       "((100000, 64, 64, 3), (100000, 200), (10000, 64, 64, 3), (10000, 200))"
      ]
     },
     "execution_count": 37,
     "metadata": {},
     "output_type": "execute_result"
    }
   ],
   "source": [
    "TRAIN_IMAGES.shape, TRAIN_LABELS.shape, TEST_IMAGES.shape, TEST_LABELS.shape"
   ]
  },
  {
   "cell_type": "code",
   "execution_count": null,
   "metadata": {
    "colab": {
     "base_uri": "https://localhost:8080/"
    },
    "id": "TcARhlRGe0gK",
    "outputId": "71b3f6c7-1be5-4ae6-cf45-0bfd84502949"
   },
   "outputs": [
    {
     "name": "stdout",
     "output_type": "stream",
     "text": [
      "Epoch 1/50\n",
      "3125/3125 [==============================] - 143s 44ms/step - loss: 3.9657 - accuracy: 0.2218 - val_loss: 2.8548 - val_accuracy: 0.3858\n",
      "Epoch 2/50\n",
      "3125/3125 [==============================] - 137s 44ms/step - loss: 2.7465 - accuracy: 0.3808 - val_loss: 2.5249 - val_accuracy: 0.4382\n",
      "Epoch 3/50\n",
      "3125/3125 [==============================] - 137s 44ms/step - loss: 2.2864 - accuracy: 0.4561 - val_loss: 2.3416 - val_accuracy: 0.4653\n",
      "Epoch 4/50\n",
      "3125/3125 [==============================] - 137s 44ms/step - loss: 1.9422 - accuracy: 0.5221 - val_loss: 2.2267 - val_accuracy: 0.4845\n",
      "Epoch 5/50\n",
      "3125/3125 [==============================] - 137s 44ms/step - loss: 1.6537 - accuracy: 0.5771 - val_loss: 2.3226 - val_accuracy: 0.4939\n",
      "Epoch 6/50\n",
      "3125/3125 [==============================] - 137s 44ms/step - loss: 1.3855 - accuracy: 0.6334 - val_loss: 2.3653 - val_accuracy: 0.4952\n",
      "Epoch 7/50\n",
      "3125/3125 [==============================] - 137s 44ms/step - loss: 1.1437 - accuracy: 0.6888 - val_loss: 2.4785 - val_accuracy: 0.4912\n",
      "Epoch 8/50\n",
      "3125/3125 [==============================] - 137s 44ms/step - loss: 0.9454 - accuracy: 0.7329 - val_loss: 2.4711 - val_accuracy: 0.5036\n",
      "Epoch 9/50\n",
      "3125/3125 [==============================] - 137s 44ms/step - loss: 0.7863 - accuracy: 0.7743 - val_loss: 2.6408 - val_accuracy: 0.4996\n",
      "Epoch 10/50\n",
      "3125/3125 [==============================] - 137s 44ms/step - loss: 0.6609 - accuracy: 0.8045 - val_loss: 2.6391 - val_accuracy: 0.4935\n",
      "Epoch 11/50\n",
      "3125/3125 [==============================] - 137s 44ms/step - loss: 0.5527 - accuracy: 0.8339 - val_loss: 2.8356 - val_accuracy: 0.4898\n",
      "Epoch 12/50\n",
      "3125/3125 [==============================] - 137s 44ms/step - loss: 0.4918 - accuracy: 0.8506 - val_loss: 2.9488 - val_accuracy: 0.4941\n",
      "Epoch 13/50\n",
      "3125/3125 [==============================] - 137s 44ms/step - loss: 0.4382 - accuracy: 0.8652 - val_loss: 3.0545 - val_accuracy: 0.4920\n",
      "Epoch 14/50\n",
      "3125/3125 [==============================] - 137s 44ms/step - loss: 0.4014 - accuracy: 0.8755 - val_loss: 3.1199 - val_accuracy: 0.4866\n",
      "Epoch 15/50\n",
      "3125/3125 [==============================] - 137s 44ms/step - loss: 0.3751 - accuracy: 0.8838 - val_loss: 3.1832 - val_accuracy: 0.4832\n",
      "Epoch 16/50\n",
      "3125/3125 [==============================] - 137s 44ms/step - loss: 0.3470 - accuracy: 0.8937 - val_loss: 3.2419 - val_accuracy: 0.4876\n",
      "Epoch 17/50\n",
      "3125/3125 [==============================] - 137s 44ms/step - loss: 0.3205 - accuracy: 0.9001 - val_loss: 3.3130 - val_accuracy: 0.4926\n",
      "Epoch 18/50\n",
      "3125/3125 [==============================] - 137s 44ms/step - loss: 0.3076 - accuracy: 0.9043 - val_loss: 3.4198 - val_accuracy: 0.4869\n",
      "Epoch 19/50\n",
      "3125/3125 [==============================] - 137s 44ms/step - loss: 0.2947 - accuracy: 0.9095 - val_loss: 3.4618 - val_accuracy: 0.4826\n",
      "Epoch 20/50\n",
      "3125/3125 [==============================] - 137s 44ms/step - loss: 0.2804 - accuracy: 0.9132 - val_loss: 3.5308 - val_accuracy: 0.4804\n",
      "Epoch 21/50\n",
      "3125/3125 [==============================] - 137s 44ms/step - loss: 0.2718 - accuracy: 0.9157 - val_loss: 3.5849 - val_accuracy: 0.4831\n",
      "Epoch 22/50\n",
      "3125/3125 [==============================] - 137s 44ms/step - loss: 0.2537 - accuracy: 0.9218 - val_loss: 3.6257 - val_accuracy: 0.4800\n",
      "Epoch 23/50\n",
      "3125/3125 [==============================] - 137s 44ms/step - loss: 0.2483 - accuracy: 0.9241 - val_loss: 3.7258 - val_accuracy: 0.4795\n",
      "Epoch 24/50\n",
      "3125/3125 [==============================] - 137s 44ms/step - loss: 0.2371 - accuracy: 0.9275 - val_loss: 3.8690 - val_accuracy: 0.4773\n",
      "Epoch 25/50\n",
      "3125/3125 [==============================] - 137s 44ms/step - loss: 0.2336 - accuracy: 0.9283 - val_loss: 3.8289 - val_accuracy: 0.4781\n",
      "Epoch 26/50\n",
      "3125/3125 [==============================] - 137s 44ms/step - loss: 0.2251 - accuracy: 0.9317 - val_loss: 3.8310 - val_accuracy: 0.4778\n",
      "Epoch 27/50\n",
      "3125/3125 [==============================] - 137s 44ms/step - loss: 0.2171 - accuracy: 0.9319 - val_loss: 3.8380 - val_accuracy: 0.4812\n",
      "Epoch 28/50\n",
      "3125/3125 [==============================] - 137s 44ms/step - loss: 0.2117 - accuracy: 0.9351 - val_loss: 3.9639 - val_accuracy: 0.4717\n",
      "Epoch 29/50\n",
      "3125/3125 [==============================] - 137s 44ms/step - loss: 0.2125 - accuracy: 0.9357 - val_loss: 3.9356 - val_accuracy: 0.4778\n",
      "Epoch 30/50\n",
      "3125/3125 [==============================] - 137s 44ms/step - loss: 0.2002 - accuracy: 0.9384 - val_loss: 3.9754 - val_accuracy: 0.4782\n",
      "Epoch 31/50\n",
      "3125/3125 [==============================] - 137s 44ms/step - loss: 0.1992 - accuracy: 0.9392 - val_loss: 3.9779 - val_accuracy: 0.4727\n",
      "Epoch 32/50\n",
      "3125/3125 [==============================] - 137s 44ms/step - loss: 0.1886 - accuracy: 0.9415 - val_loss: 4.0450 - val_accuracy: 0.4824\n",
      "Epoch 33/50\n",
      "3125/3125 [==============================] - 137s 44ms/step - loss: 0.1846 - accuracy: 0.9447 - val_loss: 4.1090 - val_accuracy: 0.4820\n",
      "Epoch 34/50\n",
      "3125/3125 [==============================] - 137s 44ms/step - loss: 0.1841 - accuracy: 0.9441 - val_loss: 4.1355 - val_accuracy: 0.4820\n",
      "Epoch 35/50\n",
      "3125/3125 [==============================] - 137s 44ms/step - loss: 0.1749 - accuracy: 0.9471 - val_loss: 4.1528 - val_accuracy: 0.4825\n",
      "Epoch 36/50\n",
      "3125/3125 [==============================] - 137s 44ms/step - loss: 0.1702 - accuracy: 0.9478 - val_loss: 4.1919 - val_accuracy: 0.4796\n",
      "Epoch 37/50\n",
      "3125/3125 [==============================] - 137s 44ms/step - loss: 0.1744 - accuracy: 0.9470 - val_loss: 4.2279 - val_accuracy: 0.4839\n",
      "Epoch 38/50\n",
      "3125/3125 [==============================] - 137s 44ms/step - loss: 0.1634 - accuracy: 0.9504 - val_loss: 4.2913 - val_accuracy: 0.4824\n",
      "Epoch 39/50\n",
      "3125/3125 [==============================] - 137s 44ms/step - loss: 0.1615 - accuracy: 0.9513 - val_loss: 4.3492 - val_accuracy: 0.4802\n",
      "Epoch 40/50\n",
      "3125/3125 [==============================] - 137s 44ms/step - loss: 0.1567 - accuracy: 0.9534 - val_loss: 4.2712 - val_accuracy: 0.4848\n",
      "Epoch 41/50\n",
      "3125/3125 [==============================] - 138s 44ms/step - loss: 0.1583 - accuracy: 0.9519 - val_loss: 4.3815 - val_accuracy: 0.4758\n",
      "Epoch 42/50\n",
      "3125/3125 [==============================] - 138s 44ms/step - loss: 0.1534 - accuracy: 0.9547 - val_loss: 4.3704 - val_accuracy: 0.4819\n",
      "Epoch 43/50\n",
      "3125/3125 [==============================] - 137s 44ms/step - loss: 0.1480 - accuracy: 0.9558 - val_loss: 4.4728 - val_accuracy: 0.4773\n",
      "Epoch 44/50\n",
      "3125/3125 [==============================] - 138s 44ms/step - loss: 0.1542 - accuracy: 0.9543 - val_loss: 4.5042 - val_accuracy: 0.4823\n",
      "Epoch 45/50\n",
      "3125/3125 [==============================] - 139s 44ms/step - loss: 0.1495 - accuracy: 0.9551 - val_loss: 4.4855 - val_accuracy: 0.4775\n",
      "Epoch 46/50\n",
      "3125/3125 [==============================] - 139s 44ms/step - loss: 0.1378 - accuracy: 0.9584 - val_loss: 4.5223 - val_accuracy: 0.4757\n",
      "Epoch 47/50\n",
      "3125/3125 [==============================] - 139s 44ms/step - loss: 0.1416 - accuracy: 0.9574 - val_loss: 4.5272 - val_accuracy: 0.4773\n",
      "Epoch 48/50\n",
      "3125/3125 [==============================] - 138s 44ms/step - loss: 0.1372 - accuracy: 0.9588 - val_loss: 4.6774 - val_accuracy: 0.4755\n",
      "Epoch 49/50\n",
      "3125/3125 [==============================] - 138s 44ms/step - loss: 0.1361 - accuracy: 0.9588 - val_loss: 4.7326 - val_accuracy: 0.4756\n",
      "Epoch 50/50\n",
      "3125/3125 [==============================] - 138s 44ms/step - loss: 0.1303 - accuracy: 0.9610 - val_loss: 4.6275 - val_accuracy: 0.4801\n"
     ]
    }
   ],
   "source": [
    "history = model.fit(TRAIN_IMAGES, TRAIN_LABELS, batch_size=32,  epochs=50, verbose=1,\n",
    "                        validation_data=(TEST_IMAGES,TEST_LABELS))"
   ]
  },
  {
   "cell_type": "code",
   "execution_count": null,
   "metadata": {
    "colab": {
     "base_uri": "https://localhost:8080/",
     "height": 295
    },
    "id": "Yv5PKIOJb_YM",
    "outputId": "784b5846-0fc4-4429-908c-87c9740a84d1"
   },
   "outputs": [
    {
     "data": {
      "image/png": "[encoded data removed]",
      "text/plain": [
       "<Figure size 432x288 with 1 Axes>"
      ]
     },
     "metadata": {
      "needs_background": "light"
     },
     "output_type": "display_data"
    }
   ],
   "source": [
    "plt.plot(history.history['accuracy'], label='Training Accuracy')\n",
    "plt.plot(history.history['val_accuracy'], label = 'Validation Accuracy')\n",
    "plt.xlabel('Epoch')\n",
    "plt.ylabel('Accuracy')\n",
    "plt.legend(loc='lower right')\n",
    "plt.title(\"Model Accuracy\")\n",
    "plt.show()"
   ]
  },
  {
   "cell_type": "code",
   "execution_count": null,
   "metadata": {
    "colab": {
     "base_uri": "https://localhost:8080/",
     "height": 295
    },
    "id": "VImznndncFr2",
    "outputId": "2c041417-c00b-4115-a249-80a9222d6c8b"
   },
   "outputs": [
    {
     "data": {
      "image/png": "[encoded data removed]",
      "text/plain": [
       "<Figure size 432x288 with 1 Axes>"
      ]
     },
     "metadata": {
      "needs_background": "light"
     },
     "output_type": "display_data"
    }
   ],
   "source": [
    "plt.plot(history.history['loss'],'r', label='Training Loss')\n",
    "plt.plot(history.history['val_loss'],'c', label = 'Validation Loss')\n",
    "plt.xlabel('Epoch')\n",
    "plt.ylabel('Loss')\n",
    "plt.legend(loc='upper right')\n",
    "plt.title('Model Loss')\n",
    "plt.savefig('model_1_loss.png',format='png')\n",
    "plt.show()"
   ]
  },
  {
   "cell_type": "code",
   "execution_count": null,
   "metadata": {
    "colab": {
     "base_uri": "https://localhost:8080/"
    },
    "id": "4y0XG3--Td98",
    "outputId": "f353aef8-19ee-47ed-c65f-d250401507ed"
   },
   "outputs": [
    {
     "name": "stdout",
     "output_type": "stream",
     "text": [
      "Training accuracy:  96.1\n",
      "Validaiton accuracy:  48.01\n"
     ]
    }
   ],
   "source": [
    "print('Training accuracy: ', np.around(history.history['accuracy'][49]*100, decimals=2))\n",
    "print('Validaiton accuracy: ', np.around(history.history['val_accuracy'][49]*100, decimals=2))"
   ]
  },
  {
   "cell_type": "code",
   "execution_count": null,
   "metadata": {
    "colab": {
     "base_uri": "https://localhost:8080/"
    },
    "id": "mw8AXyzHTluy",
    "outputId": "80c1d686-7343-459d-d73f-ea7b4fc57b25"
   },
   "outputs": [
    {
     "name": "stdout",
     "output_type": "stream",
     "text": [
      "313/313 [==============================] - 5s 15ms/step - loss: 4.6275 - accuracy: 0.4801\n",
      "Testing Accuracy:  48.01\n",
      "Testing Loss:  4.63\n"
     ]
    }
   ],
   "source": [
    "prediction = model.evaluate(TEST_IMAGES,TEST_LABELS)\n",
    "print(\"Testing Accuracy: \", np.around(prediction[1]*100, decimals=2))\n",
    "print(\"Testing Loss: \", np.around(prediction[0],decimals=2))"
   ]
  }
 ],
 "metadata": {
  "accelerator": "GPU",
  "colab": {
   "collapsed_sections": [],
   "machine_shape": "hm",
   "name": "Assignment3_1.ipynb",
   "provenance": []
  },
  "kernelspec": {
   "display_name": "Python 3 (ipykernel)",
   "language": "python",
   "name": "python3"
  },
  "language_info": {
   "codemirror_mode": {
    "name": "ipython",
    "version": 3
   },
   "file_extension": ".py",
   "mimetype": "text/x-python",
   "name": "python",
   "nbconvert_exporter": "python",
   "pygments_lexer": "ipython3",
   "version": "3.8.1"
  }
 },
 "nbformat": 4,
 "nbformat_minor": 1
}
