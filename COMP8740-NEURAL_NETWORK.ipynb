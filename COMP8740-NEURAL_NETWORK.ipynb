{
 "cells": [
  {
   "cell_type": "code",
   "execution_count": null,
   "id": "601fb1b5",
   "metadata": {},
   "outputs": [],
   "source": [
    "import time\n",
    "import matplotlib.pyplot as plt\n",
    "import numpy as np\n",
    "import os\n",
    "import cv2"
   ]
  },
  {
   "cell_type": "code",
   "execution_count": null,
   "id": "fd8490e8",
   "metadata": {},
   "outputs": [],
   "source": [
    "def downloadDataset():\n",
    "    !wget http://cs231n.stanford.edu/tiny-imagenet-200.zip\n",
    "    !unzip -q tiny-imagenet-200.zip && ls tiny-imagenet-200"
   ]
  },
  {
   "cell_type": "code",
   "execution_count": null,
   "id": "6d5889ad",
   "metadata": {},
   "outputs": [],
   "source": [
    "def mapDirectoryToInt():\n",
    "    ID_DICT = {}\n",
    "    PATH = 'tiny-imagenet-200/wnids.txt'\n",
    "    FILEOPEN = open(PATH,'r')\n",
    "    for i, folder in enumerate(FILEOPEN):\n",
    "        ID_DICT[folder.replace('\\n','')]=i\n",
    "    return ID_DICT\n"
   ]
  },
  {
   "cell_type": "code",
   "execution_count": null,
   "id": "50f15d47",
   "metadata": {},
   "outputs": [],
   "source": [
    "def getImage(folderName=None):\n",
    "    DATASET_PATH = 'tiny-imagenet-200/'+folderName+'/'\n",
    "    directories = os.listdir(DATASET_PATH)\n",
    "    ONE_HOT_ENCODED = np.eye(len(directories))\n",
    "    MAP_DIC = mapDirectoryToInt()\n",
    "    TRAIN_IMAGES = []\n",
    "    TRAIN_LABELS = []\n",
    "    CLASS = None\n",
    "    for directory in directories:\n",
    "        path = DATASET_PATH+directory+'/'\n",
    "        files = os.listdir(path)\n",
    "        if files[0].endswith('.txt'):\n",
    "            CLASS = files[0]\n",
    "        else:\n",
    "            CLASS = files[1]\n",
    "        for file in files:\n",
    "            if file.endswith('.txt'):\n",
    "                continue\n",
    "            IMG_FOLDER_PATH = path+file+'/'\n",
    "            IMAGES = os.listdir(IMG_FOLDER_PATH)\n",
    "            for IMAGE in IMAGES:\n",
    "                IMG_PATH = IMG_FOLDER_PATH+IMAGE\n",
    "                img = cv2.imread(IMG_PATH)\n",
    "                if len(img.shape)< 3:\n",
    "                    continue\n",
    "                #img = np.reshape(img,[64,64,3])\n",
    "                TRAIN_IMAGES.append(img)\n",
    "                TRAIN_LABELS.append((np.reshape(ONE_HOT_ENCODED[MAP_DIC[CLASS.replace('_boxes.txt','')]], [200])))\n",
    "    return np.array(TRAIN_IMAGES), np.array(TRAIN_LABELS)"
   ]
  },
  {
   "cell_type": "code",
   "execution_count": null,
   "id": "57a70a8b",
   "metadata": {},
   "outputs": [],
   "source": [
    "def loadValidationData(folderName=None):\n",
    "    DATASET_PATH = 'tiny-imagenet-200/'\n",
    "    DATASET_FILE_PATH = 'tiny-imagenet-200/'+folderName+'/val_annotations.txt'\n",
    "    ONE_HOT_ENCODED = np.eye(200)\n",
    "    MAP_DIC = mapDirectoryToInt()\n",
    "    file = open(DATASET_FILE_PATH)\n",
    "    TEST = []\n",
    "    TEST_LABELS = []\n",
    "    cnt = 0\n",
    "    for line in file:\n",
    "        image, class_id = line.split('\\t')[:2]\n",
    "        IMG_PATH = DATASET_PATH+folderName+'/images/'+image\n",
    "        img = cv2.imread(IMG_PATH)\n",
    "        if len(img.shape) <3:\n",
    "            continue\n",
    "        TEST.append(img)\n",
    "        TEST_LABELS.append((np.reshape(ONE_HOT_ENCODED[MAP_DIC[class_id]], [200])))\n",
    "    return np.array(TEST), np.array(TEST_LABELS)"
   ]
  },
  {
   "cell_type": "code",
   "execution_count": null,
   "id": "dc80d992",
   "metadata": {},
   "outputs": [],
   "source": [
    "from tensorflow import keras\n",
    "TEST_IMAGES, TEST_LABELS = loadValidationData('val')"
   ]
  }
 ],
 "metadata": {
  "kernelspec": {
   "display_name": "Python 3 (ipykernel)",
   "language": "python",
   "name": "python3"
  },
  "language_info": {
   "codemirror_mode": {
    "name": "ipython",
    "version": 3
   },
   "file_extension": ".py",
   "mimetype": "text/x-python",
   "name": "python",
   "nbconvert_exporter": "python",
   "pygments_lexer": "ipython3",
   "version": "3.8.12"
  }
 },
 "nbformat": 4,
 "nbformat_minor": 5
}
